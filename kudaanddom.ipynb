{
 "cells": [
  {
   "cell_type": "markdown",
   "id": "3003ce29-e87c-44bb-8fcb-56451201bd02",
   "metadata": {},
   "source": [
    "Exercise"
   ]
  },
  {
   "cell_type": "code",
   "execution_count": 4,
   "id": "1bd4f654-9931-4268-8c7f-82eef306bd90",
   "metadata": {},
   "outputs": [
    {
     "name": "stdout",
     "output_type": "stream",
     "text": [
      "range(1, 101)\n"
     ]
    }
   ],
   "source": [
    "def main():\n",
    "    x = range(1, 101);\n",
    "    print(x)\n",
    "    \n",
    "if __name__ == '__main__':\n",
    "    main()"
   ]
  },
  {
   "cell_type": "code",
   "execution_count": 6,
   "id": "eb91d961-c304-4d45-a62c-31b0fc360614",
   "metadata": {},
   "outputs": [
    {
     "name": "stdout",
     "output_type": "stream",
     "text": [
      "range(1, 101)\n"
     ]
    }
   ],
   "source": [
    "for i in range(1, 101);"
   ]
  },
  {
   "cell_type": "code",
   "execution_count": null,
   "id": "a0499b6e-2870-41f0-b676-e8ad4d4753f8",
   "metadata": {},
   "outputs": [],
   "source": []
  }
 ],
 "metadata": {
  "kernelspec": {
   "display_name": "Python 3 (ipykernel)",
   "language": "python",
   "name": "python3"
  },
  "language_info": {
   "codemirror_mode": {
    "name": "ipython",
    "version": 3
   },
   "file_extension": ".py",
   "mimetype": "text/x-python",
   "name": "python",
   "nbconvert_exporter": "python",
   "pygments_lexer": "ipython3",
   "version": "3.9.13"
  }
 },
 "nbformat": 4,
 "nbformat_minor": 5
}
